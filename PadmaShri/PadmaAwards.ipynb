{
 "cells": [
  {
   "cell_type": "code",
   "execution_count": 1,
   "metadata": {
    "collapsed": true
   },
   "outputs": [],
   "source": [
    "import pandas as pd\n",
    "%matplotlib inline\n"
   ]
  },
  {
   "cell_type": "code",
   "execution_count": 6,
   "metadata": {
    "collapsed": true
   },
   "outputs": [],
   "source": [
    "psr1 = pd.read_csv('PadmaAwards - PadmaShri2000-09.csv')\n",
    "psr2 = pd.read_csv('PadmaAwards - PadmaShri2010-161.csv')"
   ]
  },
  {
   "cell_type": "code",
   "execution_count": 9,
   "metadata": {
    "collapsed": false
   },
   "outputs": [
    {
     "data": {
      "text/plain": [
       "['Year', 'Name', 'Field', 'State', 'Country']"
      ]
     },
     "execution_count": 9,
     "metadata": {},
     "output_type": "execute_result"
    }
   ],
   "source": [
    "psr1.columns.tolist()"
   ]
  },
  {
   "cell_type": "code",
   "execution_count": 10,
   "metadata": {
    "collapsed": false
   },
   "outputs": [
    {
     "data": {
      "text/plain": [
       "['Name', 'Field', 'State', 'Country', 'Year']"
      ]
     },
     "execution_count": 10,
     "metadata": {},
     "output_type": "execute_result"
    }
   ],
   "source": [
    "psr2.columns.tolist()"
   ]
  },
  {
   "cell_type": "code",
   "execution_count": 39,
   "metadata": {
    "collapsed": false
   },
   "outputs": [
    {
     "name": "stderr",
     "output_type": "stream",
     "text": [
      "/Users/Satish/anaconda/lib/python2.7/site-packages/IPython/kernel/__main__.py:2: FutureWarning: sort(columns=....) is deprecated, use sort_values(by=.....)\n",
      "  from IPython.kernel.zmq import kernelapp as app\n"
     ]
    }
   ],
   "source": [
    "psr = pd.concat([psr1,psr2])\n",
    "psr.sort(['Year'], ascending=True,inplace=True)\n",
    "\n",
    "# Create variable with TRUE if stark is the attacker\n",
    "inv_valid = psr['Name'] != \"Name\"\n",
    "psr = psr[inv_valid]"
   ]
  },
  {
   "cell_type": "code",
   "execution_count": 42,
   "metadata": {
    "collapsed": false
   },
   "outputs": [
    {
     "data": {
      "text/plain": [
       "Arts                                       464\n",
       "Literature & Education                     413\n",
       "Medicine                                   334\n",
       "Social Work                                296\n",
       "Science & Engineering                      248\n",
       "Civil Service                              220\n",
       "Sports                                     155\n",
       "Art                                         93\n",
       "Literature and Education                    93\n",
       "Trade & Industry                            60\n",
       "Public Affairs                              54\n",
       "Science and Engineering                     52\n",
       "Trade and Industry                          32\n",
       "Others                                      20\n",
       "Social work                                  8\n",
       "Journalism                                   6\n",
       "Art-Cinema                                   5\n",
       "Medicine - Neurology                         4\n",
       "Art - Theatre                                4\n",
       "Sports - Cricket                             3\n",
       "Art - Folk Music                             3\n",
       "Social Works                                 3\n",
       "Medicine - Cardiology                        3\n",
       "Medicine - Oncology                          3\n",
       "Literature & Education - Journalism          3\n",
       "Art - Cinema                                 3\n",
       "Others - Yoga                                3\n",
       "Art - Painting                               3\n",
       "Medicine - Surgery                           3\n",
       "Art - Film Direction and Production          3\n",
       "                                          ... \n",
       "Art - Theatre & Cinema                       1\n",
       "Art- Script Writing                          1\n",
       "Art-Film Direction                           1\n",
       "Art-Dance-Bharatnatyam                       1\n",
       "Art - Rajasthani Folk Music                  1\n",
       "Sports - Wheelchair Tennis                   1\n",
       "Others-Archaeology                           1\n",
       "Sports - Kabbadi                             1\n",
       "Art - Performing Art                         1\n",
       "Literature and Education - Journalism        1\n",
       "Art - Photography                            1\n",
       "Medicine - Homeopathy                        1\n",
       "Art - Textile Designing                      1\n",
       "Art - Odishi Dance                           1\n",
       "Art - Instrumental Music - Tabla             1\n",
       "Art-Photography                              1\n",
       "Art-Puppetry                                 1\n",
       "Art-Music                                    1\n",
       "Medicine - Orthopaedic Surgery               1\n",
       "Medicine- Ophthalmology                      1\n",
       "Others - Culinary                            1\n",
       "Art - Instrumental Music-Sarangi Player      1\n",
       "Medicine - Drugs Research                    1\n",
       "Art-Dance-Mohiniattam                        1\n",
       "Art - Music-Indian Classical Vocal           1\n",
       "Sports-Weightlifting                         1\n",
       "Sports - Athletics- Paralympics              1\n",
       "Yoga & Education                             1\n",
       "Medicine-Cardiology                          1\n",
       "Medicine - Gyneacology                       1\n",
       "Name: Field, dtype: int64"
      ]
     },
     "execution_count": 42,
     "metadata": {},
     "output_type": "execute_result"
    }
   ],
   "source": [
    "fields ={\n",
    "    'Arts':'Arts',\n",
    "    'Literature & Education':'Lit_Ed'\n",
    "    'Medicine':'Medicine',\n",
    "    'Social Work':'Social-Work',\n",
    "    'Science & Engineering':'Science-Engg',\n",
    "    'Civil Service':'Civil-Service',\n",
    "    'Sports':'Sports',\n",
    "    'Art':'Arts',\n",
    "    'Literature and Education':'Lit_Ed',\n",
    "    'Trade & Industry':'Industry',\n",
    "    'Public Affairs':'Public-Affairs',\n",
    "    'Science and Engineering':'Science-Engg',\n",
    "    'Trade and Industry':'Industry',\n",
    "    'Others':'Others',\n",
    "    'Social work':'Social-Work',\n",
    "    'Journalism':'Journalism',\n",
    "    'Art-Cinema':'Art-Cinema',\n",
    "    'Medicine - Neurology':'Medicine',\n",
    "    'Art - Theatre':'Art - Theatre',\n",
    "    ''\n",
    "    \n",
    "    \n",
    "    \n",
    "    \n",
    "    \n",
    "    \n",
    "    \n",
    "    \n",
    "}    \n",
    "\n",
    "\n",
    "\n",
    "\n",
    "psr.Field.value_counts()"
   ]
  },
  {
   "cell_type": "code",
   "execution_count": 45,
   "metadata": {
    "collapsed": false
   },
   "outputs": [
    {
     "data": {
      "text/plain": [
       "186"
      ]
     },
     "execution_count": 45,
     "metadata": {},
     "output_type": "execute_result"
    }
   ],
   "source": [
    "len(psr.Field.unique().tolist())"
   ]
  },
  {
   "cell_type": "code",
   "execution_count": 21,
   "metadata": {
    "collapsed": false
   },
   "outputs": [
    {
     "data": {
      "text/plain": [
       "Index([u'Recipient', u'Field', u'State', u'Unnamed: 3', u'Year'], dtype='object')"
      ]
     },
     "execution_count": 21,
     "metadata": {},
     "output_type": "execute_result"
    }
   ],
   "source": [
    "pb1 = pd.read_csv('../PadmaBhushan/PadmaAwards - PadmaBhushan2010-16.csv')\n",
    "pb2 =pd.read_csv('../PadmaBhushan/PadmaAwards - PadmaBhushan1970.csv')\n",
    "\n"
   ]
  },
  {
   "cell_type": "code",
   "execution_count": 27,
   "metadata": {
    "collapsed": false
   },
   "outputs": [
    {
     "data": {
      "text/plain": [
       "Index([u'Name', u'Field', u'State', u'Country', u'Year'], dtype='object')"
      ]
     },
     "execution_count": 27,
     "metadata": {},
     "output_type": "execute_result"
    }
   ],
   "source": [
    "pb12= pb2.drop(pb2.columns[3],axis=1)\n",
    "pb11= pb1.drop(pb2.columns[3],axis=1)\n"
   ]
  },
  {
   "cell_type": "code",
   "execution_count": null,
   "metadata": {
    "collapsed": true
   },
   "outputs": [],
   "source": []
  }
 ],
 "metadata": {
  "kernelspec": {
   "display_name": "Python 2",
   "language": "python",
   "name": "python2"
  },
  "language_info": {
   "codemirror_mode": {
    "name": "ipython",
    "version": 2
   },
   "file_extension": ".py",
   "mimetype": "text/x-python",
   "name": "python",
   "nbconvert_exporter": "python",
   "pygments_lexer": "ipython2",
   "version": "2.7.11"
  }
 },
 "nbformat": 4,
 "nbformat_minor": 0
}
