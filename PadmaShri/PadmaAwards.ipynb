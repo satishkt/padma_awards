{
 "cells": [
  {
   "cell_type": "code",
   "execution_count": 1,
   "metadata": {
    "collapsed": false
   },
   "outputs": [],
   "source": [
    "import pandas as pd\n",
    "%matplotlib inline\n",
    "import numpy as np\n",
    "import plotly.plotly as py\n",
    "import cufflinks as cf"
   ]
  },
  {
   "cell_type": "code",
   "execution_count": 2,
   "metadata": {
    "collapsed": true
   },
   "outputs": [],
   "source": [
    "psr1 = pd.read_csv('PadmaAwards - PadmaShri2000-09.csv')\n",
    "psr2 = pd.read_csv('PadmaAwards - PadmaShri2010-161.csv')"
   ]
  },
  {
   "cell_type": "code",
   "execution_count": 3,
   "metadata": {
    "collapsed": false
   },
   "outputs": [
    {
     "data": {
      "text/plain": [
       "['Year', 'Name', 'Field', 'State', 'Country']"
      ]
     },
     "execution_count": 3,
     "metadata": {},
     "output_type": "execute_result"
    }
   ],
   "source": [
    "psr1.columns.tolist()"
   ]
  },
  {
   "cell_type": "code",
   "execution_count": 4,
   "metadata": {
    "collapsed": false
   },
   "outputs": [
    {
     "data": {
      "text/plain": [
       "array(['2000', 'Year', '2001', '2002', '2003', '2004', '2005', '2006',\n",
       "       '2007', '2008', 'Year 2009', '2009', '1990', '1991', '1992', '1998',\n",
       "       '1999', '1981', '1982', '1983', '1984', '1986', '1987', '1988',\n",
       "       '1989', '1970', '1971', '1972', '1973', '1974', '1975', '1976',\n",
       "       '1977'], dtype=object)"
      ]
     },
     "execution_count": 4,
     "metadata": {},
     "output_type": "execute_result"
    }
   ],
   "source": [
    "psr1.Year.unique()"
   ]
  },
  {
   "cell_type": "code",
   "execution_count": null,
   "metadata": {
    "collapsed": false
   },
   "outputs": [],
   "source": []
  },
  {
   "cell_type": "code",
   "execution_count": 5,
   "metadata": {
    "collapsed": false
   },
   "outputs": [
    {
     "data": {
      "text/plain": [
       "['Name', 'Field', 'State', 'Country', 'Year']"
      ]
     },
     "execution_count": 5,
     "metadata": {},
     "output_type": "execute_result"
    }
   ],
   "source": [
    "psr2.columns.tolist()"
   ]
  },
  {
   "cell_type": "code",
   "execution_count": 6,
   "metadata": {
    "collapsed": false
   },
   "outputs": [
    {
     "name": "stderr",
     "output_type": "stream",
     "text": [
      "/anaconda/lib/python2.7/site-packages/ipykernel/__main__.py:2: FutureWarning:\n",
      "\n",
      "sort(columns=....) is deprecated, use sort_values(by=.....)\n",
      "\n",
      "/anaconda/lib/python2.7/site-packages/ipykernel/__main__.py:7: FutureWarning:\n",
      "\n",
      "convert_objects is deprecated.  Use the data-type specific converters pd.to_datetime, pd.to_timedelta and pd.to_numeric.\n",
      "\n"
     ]
    }
   ],
   "source": [
    "psr = pd.concat([psr1,psr2])\n",
    "psr.sort(['Year'], ascending=True,inplace=True)\n",
    "\n",
    "# Create variable with TRUE if stark is the attacker\n",
    "inv_valid = psr['Name'] != \"Name\"\n",
    "psr = psr[inv_valid]\n",
    "psr['Year'] = psr['Year'].convert_objects(convert_numeric=True)"
   ]
  },
  {
   "cell_type": "code",
   "execution_count": 7,
   "metadata": {
    "collapsed": false
   },
   "outputs": [],
   "source": [
    "fields ={\n",
    "    'Arts':'Arts',\n",
    "    'Literature & Education':'Lit_Ed',\n",
    "    'Medicine':'Medicine',\n",
    "    'Social Work':'Social-Work',\n",
    "    'Science & Engineering':'Science-Engg',\n",
    "    'Civil Service':'Civil-Service',\n",
    "    'Sports':'Sports',\n",
    "    'Art':'Arts',\n",
    "    'Literature and Education':'Lit_Ed',\n",
    "    'Trade & Industry':'Industry',\n",
    "    'Public Affairs':'Public-Affairs',\n",
    "    'Public Service':'Public-Affairs',\n",
    "    'Science and Engineering':'Science-Engg',\n",
    "    'Trade and Industry':'Industry',\n",
    "    'Others':'Others',\n",
    "    'Social work':'Social-Work',\n",
    "    'Journalism':'Journalism',\n",
    "    'Art-Cinema':'Arts',\n",
    "    'Medicine - Neurology':'Medicine',\n",
    "    'Art - Theatre':'Arts',\n",
    "    'Commentary and Broadcasting':'Journalism',\n",
    "    'WildLife Conservation':'Social-Work',\n",
    "    'Civil Services':'Civil-Service',\n",
    "    'Public Affairs-Legal Affairs':'Public-Affairs',\n",
    "    'Environment Protection':'Social-Work',\n",
    "    'Archaeology':'Science-Engg',\n",
    "    'Research on Himalayan Glaciers':'Science-Engg',\n",
    "    'Technology Solutions':'Science-Engg',\n",
    "    'Social Works':'Others',\n",
    "    'Librarianship':'Others',\n",
    "    'Great Islamic Scholar':'Others',\n",
    "    'Yoga & Education':'Others',\n",
    "    'Fashion Designing':'Others',\n",
    "    'Other':'Others'\n",
    "}\n",
    "\n",
    "\n",
    "def standardize_fields(field):\n",
    "    if field in fields:\n",
    "        return fields[field]\n",
    "    if \"Medicine\" in field:\n",
    "        return fields['Medicine']\n",
    "    if \"Literature\" in field:\n",
    "        return fields['Literature & Education']\n",
    "    if \"Art\" in field:\n",
    "        return fields['Arts']\n",
    "    if \"Sports\" in field:\n",
    "        return fields['Sports']    \n",
    "    if \"Science\" in field:\n",
    "        return fields['Science & Engineering']  \n",
    "    if \"Others\" in field:\n",
    "        return fields['Others']       \n",
    "    else:\n",
    "        return field\n",
    "psr[\"Std_Field\"]=psr.Field.apply(lambda x : standardize_fields(x))"
   ]
  },
  {
   "cell_type": "code",
   "execution_count": 8,
   "metadata": {
    "collapsed": false
   },
   "outputs": [
    {
     "data": {
      "text/plain": [
       "11"
      ]
     },
     "execution_count": 8,
     "metadata": {},
     "output_type": "execute_result"
    }
   ],
   "source": [
    "len(psr.Std_Field.unique())"
   ]
  },
  {
   "cell_type": "code",
   "execution_count": 9,
   "metadata": {
    "collapsed": false
   },
   "outputs": [
    {
     "data": {
      "text/plain": [
       "['Public Affairs',\n",
       " 'Civil Service',\n",
       " 'Literature & Education',\n",
       " 'Medicine',\n",
       " 'Science & Engineering',\n",
       " 'Social Work',\n",
       " 'Arts',\n",
       " 'Librarianship',\n",
       " 'Sports',\n",
       " 'Trade & Industry',\n",
       " 'Science and Engineering',\n",
       " 'Trade and Industry',\n",
       " 'Literature and Education',\n",
       " 'Art',\n",
       " 'Public Service',\n",
       " 'Environment Protection',\n",
       " 'Literature and Education-Sanskrit',\n",
       " 'Sports-Mountaineering',\n",
       " 'Medicine-Cardio-Thoracic Surgery',\n",
       " 'Medicine - Obstetrics and Gynaecology',\n",
       " 'Medicine-Gastroenterology',\n",
       " 'Medicine-Endocrinology',\n",
       " 'Medicine-Orthopaedic',\n",
       " 'Medicine-Cardiology',\n",
       " 'Medicine-Padeatrics',\n",
       " 'Medicine-Neurosurgery',\n",
       " 'Sports-Discus Throw',\n",
       " 'Social work',\n",
       " 'Public Affairs-Legal Affairs',\n",
       " 'Others-Handicrafts promotion',\n",
       " 'Others-Archeology',\n",
       " 'Others-Heritage Conservation',\n",
       " 'Others-Nursing',\n",
       " 'Sports-Shooting',\n",
       " 'Sports-Wrestling',\n",
       " 'Art-Chhau Dance',\n",
       " 'Art-Folk Music',\n",
       " 'Art-Traditional Music of Manipur (Pena)',\n",
       " 'Art-Puppetry',\n",
       " 'Art-Dance-Mohiniattam',\n",
       " 'Art-Chenda Melam-Drum concert',\n",
       " 'Art-Carnatic Vocal Music',\n",
       " 'Art-Handloom Weaving',\n",
       " 'Art-Mithilia/Madhubani Painting',\n",
       " 'Art - Music-Indian Classical Vocal',\n",
       " 'Art-Cinema',\n",
       " 'Art-Dance-Bharatnatyam',\n",
       " 'Art-Warli Painting',\n",
       " 'Art-Film making',\n",
       " 'Art-Film Direction',\n",
       " 'Sports-Cricket',\n",
       " 'Art-Theatre',\n",
       " 'Art-Music',\n",
       " 'Art-Dance-Kathak',\n",
       " 'Sports-Weightlifting',\n",
       " 'Civil Services',\n",
       " 'Science and Engineering-Architecture',\n",
       " 'Science and Engineering-Agricultural Science',\n",
       " 'Sports-Adventure Sports-Para Jumping',\n",
       " 'Medicine - Oncology',\n",
       " 'Medicine-Homeopathy',\n",
       " 'Medicine - Homoeopathy',\n",
       " 'Medicine - Drugs Research',\n",
       " 'Medicine-Healthcare',\n",
       " 'Medicine - Geriatrics',\n",
       " 'Medicine - Diabetology',\n",
       " 'Medicine-Anatomy',\n",
       " 'Literature and Education - Poetry',\n",
       " 'Medicine - Ayurveda',\n",
       " 'Literature and Education - Journalism',\n",
       " 'Others - Environmental Education',\n",
       " 'Others-Ceramics',\n",
       " 'Others-Archaeology',\n",
       " 'Others-Wildlife Conservation and Environment Protection',\n",
       " 'Others-Horticulture',\n",
       " 'Sports-Physical Education',\n",
       " 'Sports- Commentary',\n",
       " 'Sports - Badminton',\n",
       " 'Sports - Archery',\n",
       " 'Sports-Hockey',\n",
       " 'Sports - Cricket',\n",
       " 'Sports - Skiing',\n",
       " 'Sports - Athletics- Paralympics',\n",
       " 'Art - Indian Classical Music- Vocal',\n",
       " 'Science and Engineering - Agricultural Research',\n",
       " 'Art - Chhau dance and choreography',\n",
       " 'Art - Playwright',\n",
       " 'Art - Indian Folk Music-Lavani.',\n",
       " 'Art - Indian Classical Dance- Kutiyattam',\n",
       " 'Art - Theatre',\n",
       " 'Art - Theatre.',\n",
       " 'Art-Indian Classical Music- Vocal',\n",
       " 'Art - Rajasthani Folk Music',\n",
       " 'Art - Instrumental Music-Sitar',\n",
       " 'Art - Yakshagana dance drama',\n",
       " 'Art - Music- Khongjom Parba',\n",
       " 'Art - Music - vocal',\n",
       " 'Art - Music',\n",
       " 'Art - Terracotta',\n",
       " 'Art - Cinema- Direction',\n",
       " 'Art - Indian Classical Dance-Odissi.',\n",
       " 'Art-Handicrafts',\n",
       " 'Art-Photography',\n",
       " 'Science and Engineering - Agriculture',\n",
       " 'Art-Painting',\n",
       " 'Archaeology',\n",
       " 'Fashion Designing',\n",
       " 'Medicine-Oncology',\n",
       " 'Medicine- Gastroentrology',\n",
       " 'Medicine- Cardiology',\n",
       " 'Medicine- Ophthalmology',\n",
       " 'Medicine - Dental Science',\n",
       " 'Medicine - Surgery',\n",
       " 'Medicine - Reproductive Medicine',\n",
       " 'Medicine - Orthopaedics',\n",
       " 'Medicine - Neurology',\n",
       " 'Medicine - Gyneacology',\n",
       " 'Medicine - ENT Surgeory',\n",
       " 'Medicine - Unani Medicine',\n",
       " 'Medicine - Endocrinology',\n",
       " 'Medicine - Vascular Surgery',\n",
       " 'Medicine - Ophthalmology',\n",
       " 'Medicine - Chest Disease',\n",
       " 'Medicine - Biomedical Research',\n",
       " 'Sports - Mountaineering',\n",
       " 'Sports - Wheelchair Tennis',\n",
       " 'Sports - Squash',\n",
       " 'Sports - Kabbadi',\n",
       " 'Medicine - Cardiology',\n",
       " 'Art- Script Writing',\n",
       " 'Art-Bengali Cinema',\n",
       " 'Art - Film',\n",
       " 'Art - Performing Art',\n",
       " 'Art - Mohini Attam',\n",
       " 'Art - Fashion Designing',\n",
       " 'Art - Cinema and Theatre',\n",
       " 'Art - Sand Artist',\n",
       " 'Art - Film Animation',\n",
       " 'Art - Odishi Dance',\n",
       " 'Art - Instrumental Music-Sarangi Player',\n",
       " 'Medicine - Health and Hygiene',\n",
       " 'Art - Instrumental Music - Tabla',\n",
       " 'Art - Manipuri Dance',\n",
       " 'Art - Painting',\n",
       " 'Art - Sculptor',\n",
       " 'Art - Instrumental Music - Pauna Manjha',\n",
       " 'Art - Kathak',\n",
       " 'Medicine - Dermatology',\n",
       " 'Others',\n",
       " 'Other',\n",
       " 'Others - Culinary',\n",
       " 'Others - Yoga',\n",
       " 'Others - Wildlife Conservation',\n",
       " 'Others - Farming',\n",
       " 'Others - Advertising & Communication',\n",
       " 'Others - Environment Conservation',\n",
       " 'Medicine - Paediatric Surgery',\n",
       " 'Art - Archaeology',\n",
       " 'Art - Cinema',\n",
       " 'Art - Classical Music',\n",
       " 'Sports - Commentary',\n",
       " 'Medicine - Orthopaedic Surgery',\n",
       " 'Art - Photography',\n",
       " 'Art - Miniature Painting',\n",
       " 'Art - Folk Music',\n",
       " 'Art - Folk Dance',\n",
       " 'Art - Folk Artist',\n",
       " 'Art - Film Direction and Production',\n",
       " 'Art - Classical Vocal',\n",
       " 'Art - Textile Designing',\n",
       " 'Art - Classical Dance',\n",
       " 'Art - Theatre & Cinema',\n",
       " 'Medicine - Homeopathy',\n",
       " 'Medicine - Cardio Thoracic Surgery',\n",
       " 'Medicine - Cardiac Surgery',\n",
       " 'Medicine - Radiology',\n",
       " 'Medicine - Gastroenterology',\n",
       " 'Literature & Education - Journalism',\n",
       " 'Great Islamic Scholar',\n",
       " 'Yoga & Education',\n",
       " 'Journalism',\n",
       " 'WildLife Conservation',\n",
       " 'Social Works',\n",
       " 'Technology Solutions',\n",
       " 'Research on Himalayan Glaciers',\n",
       " 'Commentary and Broadcasting']"
      ]
     },
     "execution_count": 9,
     "metadata": {},
     "output_type": "execute_result"
    }
   ],
   "source": [
    "psr.Field.unique().tolist()"
   ]
  },
  {
   "cell_type": "code",
   "execution_count": null,
   "metadata": {
    "collapsed": true
   },
   "outputs": [],
   "source": []
  },
  {
   "cell_type": "code",
   "execution_count": 10,
   "metadata": {
    "collapsed": false
   },
   "outputs": [
    {
     "data": {
      "text/plain": [
       "['Public-Affairs',\n",
       " 'Civil-Service',\n",
       " 'Lit_Ed',\n",
       " 'Medicine',\n",
       " 'Science-Engg',\n",
       " 'Social-Work',\n",
       " 'Arts',\n",
       " 'Others',\n",
       " 'Sports',\n",
       " 'Industry',\n",
       " 'Journalism']"
      ]
     },
     "execution_count": 10,
     "metadata": {},
     "output_type": "execute_result"
    }
   ],
   "source": [
    "psr.Std_Field.unique().tolist()"
   ]
  },
  {
   "cell_type": "code",
   "execution_count": 11,
   "metadata": {
    "collapsed": false
   },
   "outputs": [
    {
     "data": {
      "text/plain": [
       "Arts              643\n",
       "Lit_Ed            512\n",
       "Medicine          392\n",
       "Science-Engg      308\n",
       "Social-Work       306\n",
       "Civil-Service     222\n",
       "Sports            179\n",
       "Industry           92\n",
       "Public-Affairs     56\n",
       "Others             46\n",
       "Journalism          7\n",
       "Name: Std_Field, dtype: int64"
      ]
     },
     "execution_count": 11,
     "metadata": {},
     "output_type": "execute_result"
    }
   ],
   "source": [
    "psr.Std_Field.value_counts()"
   ]
  },
  {
   "cell_type": "code",
   "execution_count": 12,
   "metadata": {
    "collapsed": false
   },
   "outputs": [
    {
     "data": {
      "text/html": [
       "<iframe id=\"igraph\" scrolling=\"no\" style=\"border:none;\"seamless=\"seamless\" src=\"https://plot.ly/~thedummy/19.embed\" height=\"525px\" width=\"100%\"></iframe>"
      ],
      "text/plain": [
       "<plotly.tools.PlotlyDisplay object>"
      ]
     },
     "execution_count": 12,
     "metadata": {},
     "output_type": "execute_result"
    }
   ],
   "source": [
    "series = psr.Std_Field.value_counts()\n",
    "series.iplot(kind='bar',yTitle='Total Number of Awards in the category',title='Number of Padma Shri Awards',filename='padma/totalpadmashri')"
   ]
  },
  {
   "cell_type": "code",
   "execution_count": 13,
   "metadata": {
    "collapsed": false
   },
   "outputs": [
    {
     "data": {
      "text/plain": [
       "<matplotlib.axes._subplots.AxesSubplot at 0x10d3bdfd0>"
      ]
     },
     "execution_count": 13,
     "metadata": {},
     "output_type": "execute_result"
    },
    {
     "data": {
      "image/png": "[encoded data removed]",
      "text/plain": [
       "<matplotlib.figure.Figure at 0x10d38f310>"
      ]
     },
     "metadata": {},
     "output_type": "display_data"
    }
   ],
   "source": [
    "psr_50s = psr[(psr['Year']>1950) &(psr['Year']<1960)]\n",
    "psr_50s.Std_Field.value_counts().plot(kind='bar')"
   ]
  },
  {
   "cell_type": "code",
   "execution_count": 14,
   "metadata": {
    "collapsed": false
   },
   "outputs": [
    {
     "data": {
      "text/html": [
       "<iframe id=\"igraph\" scrolling=\"no\" style=\"border:none;\"seamless=\"seamless\" src=\"https://plot.ly/~thedummy/31.embed\" height=\"525px\" width=\"100%\"></iframe>"
      ],
      "text/plain": [
       "<plotly.tools.PlotlyDisplay object>"
      ]
     },
     "execution_count": 14,
     "metadata": {},
     "output_type": "execute_result"
    }
   ],
   "source": [
    "import plotly.plotly as py\n",
    "import plotly.graph_objs as go\n",
    "arts = psr[psr.Std_Field=='Arts']\n",
    "arts_byyear_cnt = arts.groupby(['Year'])['Country'].count()\n",
    "trace1 = go.Scatter(\n",
    "    x=arts_byyear_cnt.index,\n",
    "    y=arts_byyear_cnt.values\n",
    ")\n",
    "\n",
    "layout = go.Layout(             # all \"layout\" attributes: /python/reference/#layout\n",
    "    title=\"Arts Over the Years\",     # more about \"layout's\" \"title\": /python/reference/#layout-title\n",
    "    xaxis=dict(                 # all \"layout's\" \"xaxis\" attributes: /python/reference/#layout-xaxis\n",
    "        title=\"time\"            # more about \"layout's\" \"xaxis's\" \"title\": /python/reference/#layout-xaxis-title\n",
    "    ))\n",
    "data=[trace1]\n",
    "fig = go.Figure(data=data, layout=layout)\n",
    "fig['layout']['yaxis'].update(title='Number of PadmaShri Awardees for Arts')\n",
    "fig['layout']['xaxis'].update(title='Year')\n",
    "py.iplot(fig, filename='padma/artsbyyear')\n"
   ]
  },
  {
   "cell_type": "code",
   "execution_count": 15,
   "metadata": {
    "collapsed": false
   },
   "outputs": [
    {
     "data": {
      "text/html": [
       "<iframe id=\"igraph\" scrolling=\"no\" style=\"border:none;\"seamless=\"seamless\" src=\"https://plot.ly/~thedummy/33.embed\" height=\"525px\" width=\"100%\"></iframe>"
      ],
      "text/plain": [
       "<plotly.tools.PlotlyDisplay object>"
      ]
     },
     "execution_count": 15,
     "metadata": {},
     "output_type": "execute_result"
    }
   ],
   "source": [
    "import plotly.plotly as py\n",
    "import plotly.graph_objs as go\n",
    "meds = psr[psr.Std_Field=='Medicine']\n",
    "meds_byyear_cnt = meds.groupby(['Year'])['Country'].count()\n",
    "trace1 = go.Scatter(\n",
    "    x=meds_byyear_cnt.index,\n",
    "    y=meds_byyear_cnt.values\n",
    ")\n",
    "\n",
    "layout = go.Layout(             # all \"layout\" attributes: /python/reference/#layout\n",
    "    title=\"Medicine Over the Years\",     # more about \"layout's\" \"title\": /python/reference/#layout-title\n",
    "    xaxis=dict(                 # all \"layout's\" \"xaxis\" attributes: /python/reference/#layout-xaxis\n",
    "        title=\"time\"            # more about \"layout's\" \"xaxis's\" \"title\": /python/reference/#layout-xaxis-title\n",
    "    ))\n",
    "data=[trace1]\n",
    "fig = go.Figure(data=data, layout=layout)\n",
    "fig['layout']['yaxis'].update(title='Number of PadmaShri Awardees for Arts')\n",
    "fig['layout']['xaxis'].update(title='Year')\n",
    "py.iplot(fig, filename='padma/medbyyear')\n"
   ]
  },
  {
   "cell_type": "code",
   "execution_count": 28,
   "metadata": {
    "collapsed": false
   },
   "outputs": [
    {
     "data": {
      "text/html": [
       "<iframe id=\"igraph\" scrolling=\"no\" style=\"border:none;\"seamless=\"seamless\" src=\"https://plot.ly/~thedummy/35.embed\" height=\"525px\" width=\"100%\"></iframe>"
      ],
      "text/plain": [
       "<plotly.tools.PlotlyDisplay object>"
      ]
     },
     "execution_count": 28,
     "metadata": {},
     "output_type": "execute_result"
    }
   ],
   "source": [
    "import plotly.plotly as py\n",
    "import plotly.graph_objs as go\n",
    "meds=psr.Std_Field=='Medicine'\n",
    "arts=psr.Std_Field =='Arts'\n",
    "lit= psr.Std_Field=='Lit_Ed'\n",
    "sci= psr.Std_Field=='Science_Engg'\n",
    "ctags = ['Medicine','Arts','Lit_Ed','Science_Engg']\n",
    "cats = psr[psr.Std_Field.map(lambda x : x in ctags)]\n",
    "byyear_sum = cats.groupby(['Year','Std_Field'])['Country'].count()\n",
    "byyear_sum\n",
    "#byyear_sum.iplot(kind='scatter',yTitle='Number of Awardees',title='Number of Padma Shri Awards Over the Years',filename='padma/totalpadmashribyyearpercategory')\n",
    "byyear_sumunstacked = byyear_sum.unstack()\n",
    "byyear_sumunstacked.fillna(0).iplot(kind='scatter',yTitle='Number of Awardees',title='PadmaShri Awards over the years(for selected categories)',filename='satish/padmatotalbycat')\n",
    "\n"
   ]
  },
  {
   "cell_type": "code",
   "execution_count": 17,
   "metadata": {
    "collapsed": false
   },
   "outputs": [
    {
     "data": {
      "text/html": [
       "<iframe id=\"igraph\" scrolling=\"no\" style=\"border:none;\"seamless=\"seamless\" src=\"https://plot.ly/~thedummy/21.embed\" height=\"525px\" width=\"100%\"></iframe>"
      ],
      "text/plain": [
       "<plotly.tools.PlotlyDisplay object>"
      ]
     },
     "execution_count": 17,
     "metadata": {},
     "output_type": "execute_result"
    }
   ],
   "source": [
    "import plotly.plotly as py\n",
    "import plotly.graph_objs as go\n",
    "byyear_cnt = psr.groupby(['Year'])['Country'].count()\n",
    "trace1 = go.Scatter(\n",
    "    x=byyear_cnt.index,\n",
    "    y=byyear_cnt.values\n",
    ")\n",
    "data=[trace1]\n",
    "\n",
    "layout = go.Layout(\n",
    "    showlegend=False,\n",
    "    annotations=[\n",
    "        dict(\n",
    "            x=2014,\n",
    "            y=100,\n",
    "            xref='x',\n",
    "            yref='y',\n",
    "            text='Election Year',\n",
    "            showarrow=True,\n",
    "            arrowhead=4,\n",
    "            ax=0,\n",
    "            ay=-40\n",
    "        ),\n",
    "        dict(\n",
    "            x=2009,\n",
    "            y=93,\n",
    "            xref='x',\n",
    "            yref='y',\n",
    "            text='Election Year',\n",
    "            showarrow=True,\n",
    "            arrowhead=4,\n",
    "            ax=0,\n",
    "            ay=-40\n",
    "        ),\n",
    "        dict(\n",
    "            x=2004,\n",
    "            y=74,\n",
    "            xref='x',\n",
    "            yref='y',\n",
    "            text='Election Year',\n",
    "            showarrow=True,\n",
    "            arrowhead=4,\n",
    "            ax=0,\n",
    "            ay=-40\n",
    "        ),\n",
    "        dict(\n",
    "            x=1999,\n",
    "            y=34,\n",
    "            xref='x',\n",
    "            yref='y',\n",
    "            text='Election Year',\n",
    "            showarrow=True,\n",
    "            arrowhead=4,\n",
    "            ax=0,\n",
    "            ay=-40\n",
    "        ),\n",
    "        dict(\n",
    "            x=1998,\n",
    "            y=31,\n",
    "            xref='x',\n",
    "            yref='y',\n",
    "            text='Election Year',\n",
    "            showarrow=True,\n",
    "            arrowhead=4,\n",
    "            ax=0,\n",
    "            ay=-40\n",
    "        ),\n",
    "        dict(\n",
    "            x=1991,\n",
    "            y=83,\n",
    "            xref='x',\n",
    "            yref='y',\n",
    "            text='Election Year',\n",
    "            showarrow=True,\n",
    "            arrowhead=4,\n",
    "            ax=0,\n",
    "            ay=-40\n",
    "        ),\n",
    "        dict(\n",
    "            x=1989,\n",
    "            y=27,\n",
    "            xref='x',\n",
    "            yref='y',\n",
    "            text='Election Year',\n",
    "            showarrow=True,\n",
    "            arrowhead=4,\n",
    "            ax=0,\n",
    "            ay=-40\n",
    "        ),\n",
    "        dict(\n",
    "            x=1984,\n",
    "            y=55,\n",
    "            xref='x',\n",
    "            yref='y',\n",
    "            text='Election Year',\n",
    "            showarrow=True,\n",
    "            arrowhead=4,\n",
    "            ax=0,\n",
    "            ay=-40\n",
    "        ),\n",
    "        dict(\n",
    "            x=1977,\n",
    "            y=72,\n",
    "            xref='x',\n",
    "            yref='y',\n",
    "            text='Election Year',\n",
    "            showarrow=True,\n",
    "            arrowhead=4,\n",
    "            ax=0,\n",
    "            ay=-40\n",
    "        ),\n",
    "        dict(\n",
    "            x=1971,\n",
    "            y=84,\n",
    "            xref='x',\n",
    "            yref='y',\n",
    "            text='Election Year',\n",
    "            showarrow=True,\n",
    "            arrowhead=4,\n",
    "            ax=0,\n",
    "            ay=-40\n",
    "        ),\n",
    "        dict(\n",
    "            x=1967,\n",
    "            y=41,\n",
    "            xref='x',\n",
    "            yref='y',\n",
    "            text='Election Year',\n",
    "            showarrow=True,\n",
    "            arrowhead=4,\n",
    "            ax=0,\n",
    "            ay=-40\n",
    "        )\n",
    "        \n",
    "        \n",
    "    ]\n",
    ")\n",
    "fig = go.Figure(data=data, layout=layout)\n",
    "fig['layout'].update(title='Number of Padmashri awardees over the years')\n",
    "fig['layout']['yaxis'].update(title='Number of PadmaShri - Awardees')\n",
    "fig['layout']['xaxis'].update(title='Year')\n",
    "py.iplot(fig, filename='padma/totalpadmashribyyear')\n",
    "\n",
    "#byyear_cnt.iplot(kind='scatter',yTitle='Number of Awardees',title='Number of Padma Shri Awards Over the Years',filename='padma/totalpadmashribyyear')"
   ]
  },
  {
   "cell_type": "code",
   "execution_count": 18,
   "metadata": {
    "collapsed": false
   },
   "outputs": [
    {
     "data": {
      "text/html": [
       "<iframe id=\"igraph\" scrolling=\"no\" style=\"border:none;\"seamless=\"seamless\" src=\"https://plot.ly/~thedummy/29.embed\" height=\"525px\" width=\"100%\"></iframe>"
      ],
      "text/plain": [
       "<plotly.tools.PlotlyDisplay object>"
      ]
     },
     "execution_count": 18,
     "metadata": {},
     "output_type": "execute_result"
    }
   ],
   "source": [
    "byyear_sum = psr.groupby(['Year','Std_Field'])['Country'].count()\n",
    "byyear_sum\n",
    "#byyear_sum.iplot(kind='scatter',yTitle='Number of Awardees',title='Number of Padma Shri Awards Over the Years',filename='padma/totalpadmashribyyearpercategory')\n",
    "byyear_sumunstacked = byyear_sum.unstack()\n",
    "byyear_sumunstacked.fillna(0).iplot(kind='scatter',yTitle='Number of Awardees',title='PadmaShri Awards over the years by category',filename='satish/padmatotalbycategory')\n"
   ]
  },
  {
   "cell_type": "code",
   "execution_count": 19,
   "metadata": {
    "collapsed": false
   },
   "outputs": [
    {
     "data": {
      "text/plain": [
       "<matplotlib.axes._subplots.AxesSubplot at 0x10d297890>"
      ]
     },
     "execution_count": 19,
     "metadata": {},
     "output_type": "execute_result"
    },
    {
     "data": {
      "image/png": "[encoded data removed]",
      "text/plain": [
       "<matplotlib.figure.Figure at 0x10d26bad0>"
      ]
     },
     "metadata": {},
     "output_type": "display_data"
    }
   ],
   "source": [
    "psr_60s = psr[(psr['Year']>=1960) &(psr['Year']<1970)]\n",
    "psr_60s.Std_Field.value_counts().plot(kind='bar')"
   ]
  },
  {
   "cell_type": "code",
   "execution_count": null,
   "metadata": {
    "collapsed": true
   },
   "outputs": [],
   "source": []
  },
  {
   "cell_type": "code",
   "execution_count": 20,
   "metadata": {
    "collapsed": false
   },
   "outputs": [
    {
     "data": {
      "text/plain": [
       "<matplotlib.axes._subplots.AxesSubplot at 0x10d5cab50>"
      ]
     },
     "execution_count": 20,
     "metadata": {},
     "output_type": "execute_result"
    },
    {
     "data": {
      "image/png": "[encoded data removed]",
      "text/plain": [
       "<matplotlib.figure.Figure at 0x10d35a690>"
      ]
     },
     "metadata": {},
     "output_type": "display_data"
    }
   ],
   "source": [
    "psr_70s = psr[(psr['Year']>=1970) &(psr['Year']<1980)]\n",
    "psr_70s.Std_Field.value_counts().plot(kind='bar')"
   ]
  },
  {
   "cell_type": "code",
   "execution_count": 21,
   "metadata": {
    "collapsed": false
   },
   "outputs": [
    {
     "data": {
      "text/plain": [
       "<matplotlib.axes._subplots.AxesSubplot at 0x101e8d310>"
      ]
     },
     "execution_count": 21,
     "metadata": {},
     "output_type": "execute_result"
    },
    {
     "data": {
      "image/png": "[encoded data removed]",
      "text/plain": [
       "<matplotlib.figure.Figure at 0x101eaa5d0>"
      ]
     },
     "metadata": {},
     "output_type": "display_data"
    }
   ],
   "source": [
    "psr_80s = psr[(psr['Year']>=1980) &(psr['Year']<1990)]\n",
    "psr_80s.Std_Field.value_counts().plot(kind='bar')"
   ]
  },
  {
   "cell_type": "code",
   "execution_count": 22,
   "metadata": {
    "collapsed": false
   },
   "outputs": [
    {
     "data": {
      "text/plain": [
       "<matplotlib.axes._subplots.AxesSubplot at 0x10e373790>"
      ]
     },
     "execution_count": 22,
     "metadata": {},
     "output_type": "execute_result"
    },
    {
     "data": {
      "image/png": "[encoded data removed]",
      "text/plain": [
       "<matplotlib.figure.Figure at 0x10e3d1590>"
      ]
     },
     "metadata": {},
     "output_type": "display_data"
    }
   ],
   "source": [
    "psr_90s = psr[(psr['Year']>=1990) &(psr['Year']<2000)]\n",
    "psr_90s.Std_Field.value_counts().plot(kind='bar')"
   ]
  },
  {
   "cell_type": "code",
   "execution_count": 23,
   "metadata": {
    "collapsed": false
   },
   "outputs": [
    {
     "data": {
      "text/plain": [
       "<matplotlib.axes._subplots.AxesSubplot at 0x10e793d50>"
      ]
     },
     "execution_count": 23,
     "metadata": {},
     "output_type": "execute_result"
    },
    {
     "data": {
      "image/png": "[encoded data removed]",
      "text/plain": [
       "<matplotlib.figure.Figure at 0x10e7af9d0>"
      ]
     },
     "metadata": {},
     "output_type": "display_data"
    }
   ],
   "source": [
    "psr_00s = psr[(psr['Year']>=2000) &(psr['Year']<2010)]\n",
    "psr_00s.Std_Field.value_counts().plot(kind='bar')"
   ]
  },
  {
   "cell_type": "code",
   "execution_count": 24,
   "metadata": {
    "collapsed": false
   },
   "outputs": [
    {
     "data": {
      "text/plain": [
       "Arts              145\n",
       "Medicine          101\n",
       "Lit_Ed            101\n",
       "Science-Engg       60\n",
       "Social-Work        55\n",
       "Sports             41\n",
       "Industry           33\n",
       "Others             25\n",
       "Public-Affairs     13\n",
       "Civil-Service       6\n",
       "Name: Std_Field, dtype: int64"
      ]
     },
     "execution_count": 24,
     "metadata": {},
     "output_type": "execute_result"
    }
   ],
   "source": [
    "psr_10s = psr[(psr['Year']>=2010) &(psr['Year']<2020)]\n",
    "psr_10s.Std_Field.value_counts()#.plot(kind='bar')"
   ]
  },
  {
   "cell_type": "code",
   "execution_count": 25,
   "metadata": {
    "collapsed": false
   },
   "outputs": [
    {
     "ename": "IndentationError",
     "evalue": "unexpected indent (<ipython-input-25-e303134aad20>, line 3)",
     "output_type": "error",
     "traceback": [
      "\u001b[0;36m  File \u001b[0;32m\"<ipython-input-25-e303134aad20>\"\u001b[0;36m, line \u001b[0;32m3\u001b[0m\n\u001b[0;31m    ({'50s':psr_50s.Std_Field.value_counts()[field]},\u001b[0m\n\u001b[0m    ^\u001b[0m\n\u001b[0;31mIndentationError\u001b[0m\u001b[0;31m:\u001b[0m unexpected indent\n"
     ]
    }
   ],
   "source": [
    "psr_10s.Std_Field.value_counts()['Others']\n",
    "\n",
    "   ({'50s':psr_50s.Std_Field.value_counts()[field]},\n",
    "    {'60s':psr_60s.Std_Field.value_counts()[field]},\n",
    "    {'70s':psr_70s.Std_Field.value_counts()[field]},\n",
    "    {'80s':psr_80s.Std_Field.value_counts()[field]},\n",
    "    {'90s':psr_90s.Std_Field.value_counts()[field]},\n",
    "    {'00s':psr_00s.Std_Field.value_counts()[field]},\n",
    "    {'2010s':psr_10s.Std_Field.value_counts()[field]}) \n",
    "    \n",
    "    for field in fields"
   ]
  },
  {
   "cell_type": "code",
   "execution_count": null,
   "metadata": {
    "collapsed": false
   },
   "outputs": [],
   "source": [
    "x = psr_60s.Std_Field.value_counts()\n",
    "print x\n",
    "#x.loc[\"Others\"]\n",
    "print \"Lit_Ed\" in x.index.tolist()\n",
    "print x.get_value(\"Lit_Ed\")\n",
    "print get_val_in_Seris(x,\"Others\")"
   ]
  },
  {
   "cell_type": "code",
   "execution_count": null,
   "metadata": {
    "collapsed": false
   },
   "outputs": [],
   "source": [
    "fields = psr.Std_Field.unique().tolist()\n",
    "d = [\n",
    "   ({field :[{'50s':get_val_in_Seris(psr_50s.Std_Field.value_counts(),field)},\n",
    "    {'60s':get_val_in_Seris(psr_60s.Std_Field.value_counts(),field)},\n",
    "    {'70s':get_val_in_Seris(psr_70s.Std_Field.value_counts(),field)},\n",
    "    {'80s':get_val_in_Seris(psr_80s.Std_Field.value_counts(),field)},\n",
    "    {'90s':get_val_in_Seris(psr_90s.Std_Field.value_counts(),field)},\n",
    "    {'00s':get_val_in_Seris(psr_00s.Std_Field.value_counts(),field)},\n",
    "    {'2010s':get_val_in_Seris(psr_10s.Std_Field.value_counts(),field)}]})\n",
    "    \n",
    "    for field in fields\n",
    "] \n",
    "\n",
    "d    "
   ]
  },
  {
   "cell_type": "code",
   "execution_count": null,
   "metadata": {
    "collapsed": false
   },
   "outputs": [],
   "source": [
    "dl=[]\n",
    "for a,b,c,d,e,f,g in d :\n",
    "    dl.append(a)\n",
    "    dl.append(b)\n",
    "    dl.append(c)\n",
    "    dl.append(d)\n",
    "    dl.append(e)\n",
    "    dl.append(f)\n",
    "    dl.append(g)\n",
    "    \n",
    "dl\n",
    "    \n"
   ]
  },
  {
   "cell_type": "code",
   "execution_count": null,
   "metadata": {
    "collapsed": false
   },
   "outputs": [],
   "source": [
    "psrdf = pd.DataFrame(d).transpose()\n",
    "psrdf"
   ]
  },
  {
   "cell_type": "code",
   "execution_count": null,
   "metadata": {
    "collapsed": true
   },
   "outputs": [],
   "source": [
    "def get_val_in_Seris(s, f):\n",
    "    if f in s.index.tolist():\n",
    "        return s[f]\n",
    "    else:\n",
    "        return 0\n",
    "    \n",
    "    "
   ]
  },
  {
   "cell_type": "code",
   "execution_count": null,
   "metadata": {
    "collapsed": false
   },
   "outputs": [],
   "source": [
    "pb1 = pd.read_csv('../PadmaBhushan/PadmaAwards - PadmaBhushan2010-16.csv')\n",
    "pb2 =pd.read_csv('../PadmaBhushan/PadmaAwards - PadmaBhushan1970.csv')\n",
    "\n"
   ]
  },
  {
   "cell_type": "code",
   "execution_count": null,
   "metadata": {
    "collapsed": false
   },
   "outputs": [],
   "source": [
    "pb12= pb2.drop(pb2.columns[3],axis=1)\n",
    "pb11= pb1.drop(pb2.columns[3],axis=1)\n"
   ]
  },
  {
   "cell_type": "code",
   "execution_count": null,
   "metadata": {
    "collapsed": false
   },
   "outputs": [],
   "source": [
    "series = psr.Std_Field.value_counts()\n",
    "series"
   ]
  },
  {
   "cell_type": "code",
   "execution_count": null,
   "metadata": {
    "collapsed": false
   },
   "outputs": [],
   "source": [
    "psr.Std_Field.value_counts()[\"Arts\"]"
   ]
  },
  {
   "cell_type": "code",
   "execution_count": null,
   "metadata": {
    "collapsed": true
   },
   "outputs": [],
   "source": []
  }
 ],
 "metadata": {
  "kernelspec": {
   "display_name": "Python 2",
   "language": "python",
   "name": "python2"
  },
  "language_info": {
   "codemirror_mode": {
    "name": "ipython",
    "version": 2
   },
   "file_extension": ".py",
   "mimetype": "text/x-python",
   "name": "python",
   "nbconvert_exporter": "python",
   "pygments_lexer": "ipython2",
   "version": "2.7.11"
  }
 },
 "nbformat": 4,
 "nbformat_minor": 0
}
